{
  "cells": [
    {
      "cell_type": "markdown",
      "metadata": {
        "id": "view-in-github",
        "colab_type": "text"
      },
      "source": [
        "<a href=\"https://colab.research.google.com/github/Ahndoyun/Project_Game_Analysis/blob/main/ds_cs_N423a_ipynb%EC%9D%98_%EC%82%AC%EB%B3%B8.ipynb\" target=\"_parent\"><img src=\"https://colab.research.google.com/assets/colab-badge.svg\" alt=\"Open In Colab\"/></a>"
      ]
    },
    {
      "cell_type": "markdown",
      "metadata": {
        "id": "pBQsZEJmubLs"
      },
      "source": [
        "<img src='https://user-images.githubusercontent.com/6457691/90080969-0f758d00-dd47-11ea-8191-fa12fd2054a7.png' width = '200' align = 'right'>\n",
        "\n",
        "## *DATA SCIENCE / SECTION 4 / SPRINT 1 / Assingment 3*\n",
        "\n",
        "---\n",
        "# Neural Network Framework (Keras)\n",
        "\n"
      ]
    },
    {
      "cell_type": "markdown",
      "metadata": {
        "id": "nN5Wzlub62DZ"
      },
      "source": [
        "\n",
        "## 기본과제\n",
        "### 케라스 라이브러리를 사용하여 Multi-Layer Perceptron 모델을 CIFAR100 데이터에 적용해보세요.\n",
        "\n",
        "- 시드를 고정하십시오.\n",
        "- 데이터를 Noramlized 해줍니다. \n",
        "- 케라스에서 모델은 다음과 같이 고정합니다. \n",
        "- 은닉층의 활성함수는 ReLU를 사용합니다.\n",
        "- 단계별로 오늘 배운 규제방법을 적용해봅니다. "
      ]
    },
    {
      "cell_type": "code",
      "source": [
        "!pip install -q pyyaml h5py"
      ],
      "metadata": {
        "id": "d2XXZ7rL6oZh"
      },
      "execution_count": 11,
      "outputs": []
    },
    {
      "cell_type": "code",
      "execution_count": 12,
      "metadata": {
        "id": "SBPLbaggP52G"
      },
      "outputs": [],
      "source": [
        "import keras\n",
        "import tensorflow as tf\n",
        "import numpy as np\n",
        "from tensorflow.keras.datasets import cifar100\n",
        "from tensorflow.keras.models import Sequential\n",
        "from tensorflow.keras.layers import Dense, Flatten, Dropout\n",
        "from tensorflow.keras.optimizers import Adam\n",
        "from tensorflow.keras import regularizers"
      ]
    },
    {
      "cell_type": "markdown",
      "metadata": {
        "id": "I7nHEuYmd-p6"
      },
      "source": [
        "### 1) Base model을 제작합니다."
      ]
    },
    {
      "cell_type": "code",
      "source": [
        "import random\n",
        "import os"
      ],
      "metadata": {
        "id": "RJujiYlj6xix"
      },
      "execution_count": 4,
      "outputs": []
    },
    {
      "cell_type": "code",
      "execution_count": 7,
      "metadata": {
        "id": "_T_3XkVRY2xw",
        "colab": {
          "base_uri": "https://localhost:8080/"
        },
        "outputId": "34260719-016f-4117-f467-0fcaf393fea7"
      },
      "outputs": [
        {
          "output_type": "stream",
          "name": "stdout",
          "text": [
            "Epoch 1/20\n",
            "500/500 [==============================] - 3s 4ms/step - loss: 4.1251 - accuracy: 0.0706 - val_loss: 3.8663 - val_accuracy: 0.1067\n",
            "Epoch 2/20\n",
            "500/500 [==============================] - 2s 4ms/step - loss: 3.7589 - accuracy: 0.1226 - val_loss: 3.7216 - val_accuracy: 0.1365\n",
            "Epoch 3/20\n",
            "500/500 [==============================] - 2s 4ms/step - loss: 3.6363 - accuracy: 0.1429 - val_loss: 3.6863 - val_accuracy: 0.1452\n",
            "Epoch 4/20\n",
            "500/500 [==============================] - 2s 4ms/step - loss: 3.5530 - accuracy: 0.1581 - val_loss: 3.5931 - val_accuracy: 0.1595\n",
            "Epoch 5/20\n",
            "500/500 [==============================] - 2s 4ms/step - loss: 3.4974 - accuracy: 0.1703 - val_loss: 3.5298 - val_accuracy: 0.1691\n",
            "Epoch 6/20\n",
            "500/500 [==============================] - 2s 3ms/step - loss: 3.4386 - accuracy: 0.1789 - val_loss: 3.5103 - val_accuracy: 0.1761\n",
            "Epoch 7/20\n",
            "500/500 [==============================] - 2s 4ms/step - loss: 3.4035 - accuracy: 0.1867 - val_loss: 3.4977 - val_accuracy: 0.1754\n",
            "Epoch 8/20\n",
            "500/500 [==============================] - 2s 4ms/step - loss: 3.3633 - accuracy: 0.1927 - val_loss: 3.4601 - val_accuracy: 0.1863\n",
            "Epoch 9/20\n",
            "500/500 [==============================] - 2s 4ms/step - loss: 3.3395 - accuracy: 0.1978 - val_loss: 3.4724 - val_accuracy: 0.1840\n",
            "Epoch 10/20\n",
            "500/500 [==============================] - 2s 4ms/step - loss: 3.3188 - accuracy: 0.2008 - val_loss: 3.4008 - val_accuracy: 0.1979\n",
            "Epoch 11/20\n",
            "500/500 [==============================] - 2s 4ms/step - loss: 3.2895 - accuracy: 0.2070 - val_loss: 3.4011 - val_accuracy: 0.1930\n",
            "Epoch 12/20\n",
            "500/500 [==============================] - 2s 3ms/step - loss: 3.2665 - accuracy: 0.2090 - val_loss: 3.3950 - val_accuracy: 0.1970\n",
            "Epoch 13/20\n",
            "500/500 [==============================] - 2s 4ms/step - loss: 3.2433 - accuracy: 0.2146 - val_loss: 3.3954 - val_accuracy: 0.1971\n",
            "Epoch 14/20\n",
            "500/500 [==============================] - 2s 4ms/step - loss: 3.2287 - accuracy: 0.2193 - val_loss: 3.3835 - val_accuracy: 0.2013\n",
            "Epoch 15/20\n",
            "500/500 [==============================] - 2s 4ms/step - loss: 3.2139 - accuracy: 0.2193 - val_loss: 3.3828 - val_accuracy: 0.2001\n",
            "Epoch 16/20\n",
            "500/500 [==============================] - 2s 3ms/step - loss: 3.2045 - accuracy: 0.2210 - val_loss: 3.3837 - val_accuracy: 0.2018\n",
            "Epoch 17/20\n",
            "500/500 [==============================] - 2s 3ms/step - loss: 3.1849 - accuracy: 0.2245 - val_loss: 3.3574 - val_accuracy: 0.2083\n",
            "Epoch 18/20\n",
            "500/500 [==============================] - 2s 4ms/step - loss: 3.1730 - accuracy: 0.2247 - val_loss: 3.3411 - val_accuracy: 0.2132\n",
            "Epoch 19/20\n",
            "500/500 [==============================] - 2s 3ms/step - loss: 3.1630 - accuracy: 0.2277 - val_loss: 3.3457 - val_accuracy: 0.2078\n",
            "Epoch 20/20\n",
            "500/500 [==============================] - 2s 4ms/step - loss: 3.1507 - accuracy: 0.2307 - val_loss: 3.3778 - val_accuracy: 0.2018\n"
          ]
        }
      ],
      "source": [
        "# seed를 고정합니다.\n",
        "random.seed(1)\n",
        "np.random.seed(1)\n",
        "os.environ[\"PYTHONHASHSEED\"] = str(1)\n",
        "os.environ['TF_DETERMINISTIC_OPS'] = str(1)\n",
        "tf.random.set_seed(1)\n",
        "\n",
        "# 데이터 불러오기\n",
        "(X_train, y_train), (X_test, y_test) = cifar100.load_data()\n",
        "\n",
        "# 정규화(전처리)\n",
        "X_train, X_test = X_train / 255.0, X_test / 255.0\n",
        "\n",
        "# 변수 설정을 따로 하는 방법을 적용하기 위한 코드입니다. \n",
        "batch_size = 100\n",
        "epochs_max = 20\n",
        "\n",
        "# model\n",
        "model = Sequential()\n",
        "model.add(Flatten(input_shape=(32, 32, 3)))\n",
        "model.add(Dense(128, activation='relu'))\n",
        "model.add(Dense(128, activation='relu'))\n",
        "model.add(Dense(100, activation='softmax'))\n",
        "\n",
        "# 컴파일 단계, 옵티마이저와 손실함수, 측정지표를 연결해서 계산 그래프를 구성함\n",
        "model.compile(optimizer='adam', loss='sparse_categorical_crossentropy', metrics=['accuracy'])\n",
        "\n",
        "results = model.fit(X_train, y_train, epochs=epochs_max, batch_size=batch_size, verbose=1, validation_data=(X_test,y_test))"
      ]
    },
    {
      "cell_type": "code",
      "execution_count": 8,
      "metadata": {
        "id": "PdxJ5AnieUxI",
        "colab": {
          "base_uri": "https://localhost:8080/"
        },
        "outputId": "3356e33b-6caf-4188-95ff-2ef2d8a100da"
      },
      "outputs": [
        {
          "output_type": "stream",
          "name": "stdout",
          "text": [
            "313/313 [==============================] - 1s 3ms/step - loss: 3.3778 - accuracy: 0.2018\n"
          ]
        }
      ],
      "source": [
        "test_loss, test_acc = model.evaluate(X_test,  y_test, verbose=1)"
      ]
    },
    {
      "cell_type": "markdown",
      "metadata": {
        "id": "X_745szY6M35"
      },
      "source": [
        "### 2) + Weight Decay"
      ]
    },
    {
      "cell_type": "code",
      "execution_count": 14,
      "metadata": {
        "id": "XBQks0_rZWa9",
        "colab": {
          "base_uri": "https://localhost:8080/"
        },
        "outputId": "5df29e29-46c9-4356-a376-e67b2fb517f4"
      },
      "outputs": [
        {
          "output_type": "stream",
          "name": "stdout",
          "text": [
            "Epoch 1/20\n",
            "500/500 [==============================] - 3s 4ms/step - loss: 4.1302 - accuracy: 0.0714 - val_loss: 3.8694 - val_accuracy: 0.1044\n",
            "Epoch 2/20\n",
            "500/500 [==============================] - 2s 4ms/step - loss: 3.7654 - accuracy: 0.1218 - val_loss: 3.7152 - val_accuracy: 0.1341\n",
            "Epoch 3/20\n",
            "500/500 [==============================] - 2s 4ms/step - loss: 3.6381 - accuracy: 0.1447 - val_loss: 3.6581 - val_accuracy: 0.1446\n",
            "Epoch 4/20\n",
            "500/500 [==============================] - 2s 4ms/step - loss: 3.5577 - accuracy: 0.1575 - val_loss: 3.5704 - val_accuracy: 0.1666\n",
            "Epoch 5/20\n",
            "500/500 [==============================] - 2s 4ms/step - loss: 3.4899 - accuracy: 0.1714 - val_loss: 3.5353 - val_accuracy: 0.1701\n",
            "Epoch 6/20\n",
            "500/500 [==============================] - 2s 4ms/step - loss: 3.4302 - accuracy: 0.1824 - val_loss: 3.4881 - val_accuracy: 0.1790\n",
            "Epoch 7/20\n",
            "500/500 [==============================] - 2s 4ms/step - loss: 3.3898 - accuracy: 0.1867 - val_loss: 3.5053 - val_accuracy: 0.1800\n",
            "Epoch 8/20\n",
            "500/500 [==============================] - 2s 4ms/step - loss: 3.3451 - accuracy: 0.1961 - val_loss: 3.4573 - val_accuracy: 0.1874\n",
            "Epoch 9/20\n",
            "500/500 [==============================] - 2s 4ms/step - loss: 3.3117 - accuracy: 0.2023 - val_loss: 3.4286 - val_accuracy: 0.1917\n",
            "Epoch 10/20\n",
            "500/500 [==============================] - 2s 4ms/step - loss: 3.2874 - accuracy: 0.2062 - val_loss: 3.3834 - val_accuracy: 0.1995\n",
            "Epoch 11/20\n",
            "500/500 [==============================] - 2s 4ms/step - loss: 3.2555 - accuracy: 0.2129 - val_loss: 3.3850 - val_accuracy: 0.2014\n",
            "Epoch 12/20\n",
            "500/500 [==============================] - 2s 4ms/step - loss: 3.2319 - accuracy: 0.2171 - val_loss: 3.3535 - val_accuracy: 0.2030\n",
            "Epoch 13/20\n",
            "500/500 [==============================] - 2s 4ms/step - loss: 3.2105 - accuracy: 0.2226 - val_loss: 3.3750 - val_accuracy: 0.2007\n",
            "Epoch 14/20\n",
            "500/500 [==============================] - 2s 4ms/step - loss: 3.1922 - accuracy: 0.2217 - val_loss: 3.3450 - val_accuracy: 0.2112\n",
            "Epoch 15/20\n",
            "500/500 [==============================] - 2s 4ms/step - loss: 3.1753 - accuracy: 0.2247 - val_loss: 3.3549 - val_accuracy: 0.2077\n",
            "Epoch 16/20\n",
            "500/500 [==============================] - 2s 4ms/step - loss: 3.1627 - accuracy: 0.2300 - val_loss: 3.3824 - val_accuracy: 0.2043\n",
            "Epoch 17/20\n",
            "500/500 [==============================] - 2s 4ms/step - loss: 3.1475 - accuracy: 0.2326 - val_loss: 3.3385 - val_accuracy: 0.2098\n",
            "Epoch 18/20\n",
            "500/500 [==============================] - 2s 4ms/step - loss: 3.1321 - accuracy: 0.2325 - val_loss: 3.3379 - val_accuracy: 0.2106\n",
            "Epoch 19/20\n",
            "500/500 [==============================] - 2s 4ms/step - loss: 3.1191 - accuracy: 0.2364 - val_loss: 3.3256 - val_accuracy: 0.2159\n",
            "Epoch 20/20\n",
            "500/500 [==============================] - 2s 4ms/step - loss: 3.1122 - accuracy: 0.2373 - val_loss: 3.3547 - val_accuracy: 0.2059\n"
          ]
        }
      ],
      "source": [
        "# seed를 고정합니다.\n",
        "random.seed(1)\n",
        "np.random.seed(1)\n",
        "os.environ[\"PYTHONHASHSEED\"] = str(1)\n",
        "os.environ['TF_DETERMINISTIC_OPS'] = str(1)\n",
        "tf.random.set_seed(1)\n",
        "\n",
        "# 데이터 불러오기\n",
        "(X_train, y_train), (X_test, y_test) = cifar100.load_data()\n",
        "\n",
        "# 정규화(전처리)\n",
        "X_train, X_test=X_train / 255.0, X_test / 255.0 \n",
        "\n",
        "# 변수 설정을 따로 하는 방법을 적용하기 위한 코드입니다. \n",
        "batch_size = 100\n",
        "epochs_max = 20\n",
        "\n",
        "# model\n",
        "model = Sequential()\n",
        "model.add(Flatten(input_shape=(32, 32, 3)))\n",
        "model.add(Dense(128, activation='relu', \n",
        "                kernel_regularizer=regularizers.L2(0.000001),   \n",
        "                activity_regularizer=regularizers.L1(0.000001)))\n",
        "model.add(Dense(128, activation='relu'))\n",
        "model.add(Dense(100, activation='softmax'))\n",
        "\n",
        "# 컴파일 단계, 옵티마이저와 손실함수, 측정지표를 연결해서 계산 그래프를 구성함\n",
        "model.compile(optimizer='adam', loss='sparse_categorical_crossentropy', metrics=['accuracy'])\n",
        "\n",
        "results = model.fit(X_train, y_train, epochs=epochs_max, batch_size=batch_size, verbose=1, validation_data=(X_test,y_test))"
      ]
    },
    {
      "cell_type": "code",
      "execution_count": 15,
      "metadata": {
        "id": "yXMJs3US6M36",
        "colab": {
          "base_uri": "https://localhost:8080/"
        },
        "outputId": "61f62061-5066-452e-8137-6087a194d4d0"
      },
      "outputs": [
        {
          "output_type": "stream",
          "name": "stdout",
          "text": [
            "313/313 [==============================] - 1s 3ms/step - loss: 3.3547 - accuracy: 0.2059\n"
          ]
        }
      ],
      "source": [
        "test_loss, test_acc = model.evaluate(X_test,  y_test, verbose=1)"
      ]
    },
    {
      "cell_type": "markdown",
      "metadata": {
        "id": "5yQeUcY8fp4x"
      },
      "source": [
        "### 3) + Dropout"
      ]
    },
    {
      "cell_type": "code",
      "execution_count": 16,
      "metadata": {
        "id": "e_B_mosCZ_Ds",
        "colab": {
          "base_uri": "https://localhost:8080/"
        },
        "outputId": "4eb279f8-bb8c-4886-f732-d5a1c535d4f8"
      },
      "outputs": [
        {
          "output_type": "stream",
          "name": "stdout",
          "text": [
            "Epoch 1/20\n",
            "500/500 [==============================] - 3s 4ms/step - loss: 4.1073 - accuracy: 0.0754 - val_loss: 3.8229 - val_accuracy: 0.1185\n",
            "Epoch 2/20\n",
            "500/500 [==============================] - 2s 4ms/step - loss: 3.7301 - accuracy: 0.1301 - val_loss: 3.6667 - val_accuracy: 0.1433\n",
            "Epoch 3/20\n",
            "500/500 [==============================] - 2s 4ms/step - loss: 3.5984 - accuracy: 0.1551 - val_loss: 3.6165 - val_accuracy: 0.1568\n",
            "Epoch 4/20\n",
            "500/500 [==============================] - 2s 4ms/step - loss: 3.5197 - accuracy: 0.1655 - val_loss: 3.5285 - val_accuracy: 0.1740\n",
            "Epoch 5/20\n",
            "500/500 [==============================] - 2s 4ms/step - loss: 3.4480 - accuracy: 0.1807 - val_loss: 3.5061 - val_accuracy: 0.1730\n",
            "Epoch 6/20\n",
            "500/500 [==============================] - 2s 4ms/step - loss: 3.3889 - accuracy: 0.1901 - val_loss: 3.4580 - val_accuracy: 0.1846\n",
            "Epoch 7/20\n",
            "500/500 [==============================] - 2s 4ms/step - loss: 3.3440 - accuracy: 0.1971 - val_loss: 3.4208 - val_accuracy: 0.1961\n",
            "Epoch 8/20\n",
            "500/500 [==============================] - 2s 4ms/step - loss: 3.3012 - accuracy: 0.2046 - val_loss: 3.4115 - val_accuracy: 0.1951\n",
            "Epoch 9/20\n",
            "500/500 [==============================] - 3s 5ms/step - loss: 3.2710 - accuracy: 0.2119 - val_loss: 3.3737 - val_accuracy: 0.2012\n",
            "Epoch 10/20\n",
            "500/500 [==============================] - 2s 4ms/step - loss: 3.2456 - accuracy: 0.2164 - val_loss: 3.3620 - val_accuracy: 0.2056\n",
            "Epoch 11/20\n",
            "500/500 [==============================] - 2s 4ms/step - loss: 3.2106 - accuracy: 0.2201 - val_loss: 3.3474 - val_accuracy: 0.2089\n",
            "Epoch 12/20\n",
            "500/500 [==============================] - 2s 4ms/step - loss: 3.1874 - accuracy: 0.2255 - val_loss: 3.3398 - val_accuracy: 0.2084\n",
            "Epoch 13/20\n",
            "500/500 [==============================] - 2s 4ms/step - loss: 3.1668 - accuracy: 0.2290 - val_loss: 3.3487 - val_accuracy: 0.2075\n",
            "Epoch 14/20\n",
            "500/500 [==============================] - 2s 4ms/step - loss: 3.1472 - accuracy: 0.2323 - val_loss: 3.3200 - val_accuracy: 0.2133\n",
            "Epoch 15/20\n",
            "500/500 [==============================] - 2s 4ms/step - loss: 3.1338 - accuracy: 0.2345 - val_loss: 3.3340 - val_accuracy: 0.2152\n",
            "Epoch 16/20\n",
            "500/500 [==============================] - 2s 4ms/step - loss: 3.1203 - accuracy: 0.2357 - val_loss: 3.3586 - val_accuracy: 0.2080\n",
            "Epoch 17/20\n",
            "500/500 [==============================] - 2s 4ms/step - loss: 3.1002 - accuracy: 0.2406 - val_loss: 3.3693 - val_accuracy: 0.2084\n",
            "Epoch 18/20\n",
            "500/500 [==============================] - 2s 4ms/step - loss: 3.0865 - accuracy: 0.2419 - val_loss: 3.3273 - val_accuracy: 0.2172\n",
            "Epoch 19/20\n",
            "500/500 [==============================] - 2s 3ms/step - loss: 3.0773 - accuracy: 0.2445 - val_loss: 3.3291 - val_accuracy: 0.2134\n",
            "Epoch 20/20\n",
            "500/500 [==============================] - 2s 3ms/step - loss: 3.0611 - accuracy: 0.2469 - val_loss: 3.3431 - val_accuracy: 0.2161\n"
          ]
        }
      ],
      "source": [
        "# seed를 고정합니다.\n",
        "random.seed(1)\n",
        "np.random.seed(1)\n",
        "os.environ[\"PYTHONHASHSEED\"] = str(1)\n",
        "os.environ['TF_DETERMINISTIC_OPS'] = str(1)\n",
        "tf.random.set_seed(1)\n",
        "\n",
        "# 데이터 불러오기\n",
        "(X_train, y_train), (X_test, y_test) = cifar100.load_data()\n",
        "\n",
        "# 정규화(전처리)\n",
        "X_train, X_test=X_train / 255.0, X_test / 255.0 \n",
        "\n",
        "# 변수 설정을 따로 하는 방법을 적용하기 위한 코드입니다. \n",
        "batch_size = 100\n",
        "epochs_max = 20\n",
        "\n",
        "# model\n",
        "model = Sequential()\n",
        "model.add(Flatten(input_shape=(32, 32, 3)))\n",
        "model.add(Dense(128*1.1, activation='relu'))\n",
        "Dropout(0.1)\n",
        "model.add(Dense(128, activation='relu'))\n",
        "model.add(Dense(100, activation='softmax'))\n",
        "\n",
        "# 컴파일 단계, 옵티마이저와 손실함수, 측정지표를 연결해서 계산 그래프를 구성함\n",
        "model.compile(optimizer='adam', loss='sparse_categorical_crossentropy', metrics=['accuracy'])\n",
        "\n",
        "results = model.fit(X_train, y_train, epochs=epochs_max, batch_size=batch_size, verbose=1, validation_data=(X_test,y_test))\n"
      ]
    },
    {
      "cell_type": "markdown",
      "metadata": {
        "id": "Q3RoevKkC27v"
      },
      "source": [
        "### 문항 4) + Early Stopping\n",
        "\n",
        "1. Early Stopping을 적용해봅시다. 멈추는 기준을 `val_loss(검증 데이터셋의 loss 값)`로 하고 loss가 Best 값보다 5번 높아질 때 Stop 하도록 설정합니다.\n",
        "\n",
        "2. Best 모델을 저장해봅시다. Best 모델 역시 멈추는 기준을 `val_loss(검증 데이터셋의 loss 값)`로 하고 `save_best_only=True, save_weights_only=True` 로 설정합니다."
      ]
    },
    {
      "cell_type": "code",
      "execution_count": 17,
      "metadata": {
        "id": "jjj4th3oLjgu",
        "colab": {
          "base_uri": "https://localhost:8080/"
        },
        "outputId": "1625460e-f69b-4e2b-8c74-376ea546d5b9"
      },
      "outputs": [
        {
          "output_type": "stream",
          "name": "stdout",
          "text": [
            "Epoch 1/30\n",
            "1553/1563 [============================>.] - ETA: 0s - loss: 4.2496 - accuracy: 0.0431\n",
            "Epoch 1: val_loss improved from inf to 4.16639, saving model to FMbest.hdf5\n",
            "1563/1563 [==============================] - 8s 5ms/step - loss: 4.2484 - accuracy: 0.0433 - val_loss: 4.1664 - val_accuracy: 0.0512\n",
            "Epoch 2/30\n",
            "1553/1563 [============================>.] - ETA: 0s - loss: 4.0433 - accuracy: 0.0677\n",
            "Epoch 2: val_loss improved from 4.16639 to 4.02618, saving model to FMbest.hdf5\n",
            "1563/1563 [==============================] - 6s 4ms/step - loss: 4.0425 - accuracy: 0.0678 - val_loss: 4.0262 - val_accuracy: 0.0674\n",
            "Epoch 3/30\n",
            "1550/1563 [============================>.] - ETA: 0s - loss: 3.9836 - accuracy: 0.0723\n",
            "Epoch 3: val_loss improved from 4.02618 to 3.97438, saving model to FMbest.hdf5\n",
            "1563/1563 [==============================] - 6s 4ms/step - loss: 3.9834 - accuracy: 0.0723 - val_loss: 3.9744 - val_accuracy: 0.0745\n",
            "Epoch 4/30\n",
            "1554/1563 [============================>.] - ETA: 0s - loss: 3.9556 - accuracy: 0.0759\n",
            "Epoch 4: val_loss improved from 3.97438 to 3.96941, saving model to FMbest.hdf5\n",
            "1563/1563 [==============================] - 7s 4ms/step - loss: 3.9561 - accuracy: 0.0759 - val_loss: 3.9694 - val_accuracy: 0.0732\n",
            "Epoch 5/30\n",
            "1559/1563 [============================>.] - ETA: 0s - loss: 3.9401 - accuracy: 0.0817\n",
            "Epoch 5: val_loss did not improve from 3.96941\n",
            "1563/1563 [==============================] - 7s 4ms/step - loss: 3.9402 - accuracy: 0.0817 - val_loss: 3.9731 - val_accuracy: 0.0784\n",
            "Epoch 6/30\n",
            "1553/1563 [============================>.] - ETA: 0s - loss: 3.9273 - accuracy: 0.0795\n",
            "Epoch 6: val_loss improved from 3.96941 to 3.93975, saving model to FMbest.hdf5\n",
            "1563/1563 [==============================] - 7s 4ms/step - loss: 3.9272 - accuracy: 0.0794 - val_loss: 3.9397 - val_accuracy: 0.0800\n",
            "Epoch 7/30\n",
            "1559/1563 [============================>.] - ETA: 0s - loss: 3.9144 - accuracy: 0.0821\n",
            "Epoch 7: val_loss did not improve from 3.93975\n",
            "1563/1563 [==============================] - 7s 4ms/step - loss: 3.9145 - accuracy: 0.0821 - val_loss: 3.9677 - val_accuracy: 0.0779\n",
            "Epoch 8/30\n",
            "1559/1563 [============================>.] - ETA: 0s - loss: 3.8752 - accuracy: 0.0895\n",
            "Epoch 8: val_loss improved from 3.93975 to 3.87797, saving model to FMbest.hdf5\n",
            "1563/1563 [==============================] - 6s 4ms/step - loss: 3.8755 - accuracy: 0.0894 - val_loss: 3.8780 - val_accuracy: 0.0941\n",
            "Epoch 9/30\n",
            "1560/1563 [============================>.] - ETA: 0s - loss: 3.8224 - accuracy: 0.0984\n",
            "Epoch 9: val_loss improved from 3.87797 to 3.84598, saving model to FMbest.hdf5\n",
            "1563/1563 [==============================] - 7s 4ms/step - loss: 3.8221 - accuracy: 0.0985 - val_loss: 3.8460 - val_accuracy: 0.1041\n",
            "Epoch 10/30\n",
            "1557/1563 [============================>.] - ETA: 0s - loss: 3.7980 - accuracy: 0.1034\n",
            "Epoch 10: val_loss improved from 3.84598 to 3.80580, saving model to FMbest.hdf5\n",
            "1563/1563 [==============================] - 7s 5ms/step - loss: 3.7976 - accuracy: 0.1034 - val_loss: 3.8058 - val_accuracy: 0.1063\n",
            "Epoch 11/30\n",
            "1554/1563 [============================>.] - ETA: 0s - loss: 3.7747 - accuracy: 0.1067\n",
            "Epoch 11: val_loss did not improve from 3.80580\n",
            "1563/1563 [==============================] - 6s 4ms/step - loss: 3.7754 - accuracy: 0.1067 - val_loss: 3.8084 - val_accuracy: 0.1042\n",
            "Epoch 12/30\n",
            "1552/1563 [============================>.] - ETA: 0s - loss: 3.7608 - accuracy: 0.1066\n",
            "Epoch 12: val_loss improved from 3.80580 to 3.78959, saving model to FMbest.hdf5\n",
            "1563/1563 [==============================] - 7s 5ms/step - loss: 3.7616 - accuracy: 0.1065 - val_loss: 3.7896 - val_accuracy: 0.1094\n",
            "Epoch 13/30\n",
            "1552/1563 [============================>.] - ETA: 0s - loss: 3.7464 - accuracy: 0.1114\n",
            "Epoch 13: val_loss improved from 3.78959 to 3.78149, saving model to FMbest.hdf5\n",
            "1563/1563 [==============================] - 7s 4ms/step - loss: 3.7468 - accuracy: 0.1112 - val_loss: 3.7815 - val_accuracy: 0.1070\n",
            "Epoch 14/30\n",
            "1563/1563 [==============================] - ETA: 0s - loss: 3.7404 - accuracy: 0.1124\n",
            "Epoch 14: val_loss did not improve from 3.78149\n",
            "1563/1563 [==============================] - 7s 5ms/step - loss: 3.7404 - accuracy: 0.1124 - val_loss: 3.7987 - val_accuracy: 0.1058\n",
            "Epoch 15/30\n",
            "1562/1563 [============================>.] - ETA: 0s - loss: 3.7314 - accuracy: 0.1114\n",
            "Epoch 15: val_loss improved from 3.78149 to 3.76716, saving model to FMbest.hdf5\n",
            "1563/1563 [==============================] - 7s 4ms/step - loss: 3.7314 - accuracy: 0.1114 - val_loss: 3.7672 - val_accuracy: 0.1085\n",
            "Epoch 16/30\n",
            "1549/1563 [============================>.] - ETA: 0s - loss: 3.7183 - accuracy: 0.1160\n",
            "Epoch 16: val_loss did not improve from 3.76716\n",
            "1563/1563 [==============================] - 7s 5ms/step - loss: 3.7195 - accuracy: 0.1159 - val_loss: 3.7767 - val_accuracy: 0.1190\n",
            "Epoch 17/30\n",
            "1551/1563 [============================>.] - ETA: 0s - loss: 3.7088 - accuracy: 0.1179\n",
            "Epoch 17: val_loss did not improve from 3.76716\n",
            "1563/1563 [==============================] - 7s 5ms/step - loss: 3.7092 - accuracy: 0.1178 - val_loss: 3.7982 - val_accuracy: 0.1106\n",
            "Epoch 18/30\n",
            "1552/1563 [============================>.] - ETA: 0s - loss: 3.6916 - accuracy: 0.1211\n",
            "Epoch 18: val_loss did not improve from 3.76716\n",
            "1563/1563 [==============================] - 7s 4ms/step - loss: 3.6915 - accuracy: 0.1212 - val_loss: 3.7692 - val_accuracy: 0.1166\n",
            "Epoch 19/30\n",
            "1558/1563 [============================>.] - ETA: 0s - loss: 3.6762 - accuracy: 0.1257\n",
            "Epoch 19: val_loss improved from 3.76716 to 3.71646, saving model to FMbest.hdf5\n",
            "1563/1563 [==============================] - 6s 4ms/step - loss: 3.6763 - accuracy: 0.1257 - val_loss: 3.7165 - val_accuracy: 0.1234\n",
            "Epoch 20/30\n",
            "1552/1563 [============================>.] - ETA: 0s - loss: 3.6612 - accuracy: 0.1263\n",
            "Epoch 20: val_loss did not improve from 3.71646\n",
            "1563/1563 [==============================] - 6s 4ms/step - loss: 3.6622 - accuracy: 0.1263 - val_loss: 3.7299 - val_accuracy: 0.1257\n",
            "Epoch 21/30\n",
            "1554/1563 [============================>.] - ETA: 0s - loss: 3.6477 - accuracy: 0.1297\n",
            "Epoch 21: val_loss improved from 3.71646 to 3.70566, saving model to FMbest.hdf5\n",
            "1563/1563 [==============================] - 7s 5ms/step - loss: 3.6474 - accuracy: 0.1297 - val_loss: 3.7057 - val_accuracy: 0.1254\n",
            "Epoch 22/30\n",
            "1553/1563 [============================>.] - ETA: 0s - loss: 3.6359 - accuracy: 0.1300\n",
            "Epoch 22: val_loss did not improve from 3.70566\n",
            "1563/1563 [==============================] - 7s 5ms/step - loss: 3.6354 - accuracy: 0.1302 - val_loss: 3.7309 - val_accuracy: 0.1234\n",
            "Epoch 23/30\n",
            "1557/1563 [============================>.] - ETA: 0s - loss: 3.6300 - accuracy: 0.1331\n",
            "Epoch 23: val_loss did not improve from 3.70566\n",
            "1563/1563 [==============================] - 7s 4ms/step - loss: 3.6298 - accuracy: 0.1330 - val_loss: 3.7470 - val_accuracy: 0.1194\n",
            "Epoch 24/30\n",
            "1554/1563 [============================>.] - ETA: 0s - loss: 3.6200 - accuracy: 0.1338\n",
            "Epoch 24: val_loss improved from 3.70566 to 3.69623, saving model to FMbest.hdf5\n",
            "1563/1563 [==============================] - 7s 5ms/step - loss: 3.6199 - accuracy: 0.1340 - val_loss: 3.6962 - val_accuracy: 0.1308\n",
            "Epoch 25/30\n",
            "1558/1563 [============================>.] - ETA: 0s - loss: 3.6171 - accuracy: 0.1333\n",
            "Epoch 25: val_loss did not improve from 3.69623\n",
            "1563/1563 [==============================] - 7s 5ms/step - loss: 3.6163 - accuracy: 0.1335 - val_loss: 3.7017 - val_accuracy: 0.1256\n",
            "Epoch 26/30\n",
            "1561/1563 [============================>.] - ETA: 0s - loss: 3.6036 - accuracy: 0.1374\n",
            "Epoch 26: val_loss did not improve from 3.69623\n",
            "1563/1563 [==============================] - 7s 4ms/step - loss: 3.6037 - accuracy: 0.1374 - val_loss: 3.7464 - val_accuracy: 0.1203\n",
            "Epoch 27/30\n",
            "1558/1563 [============================>.] - ETA: 0s - loss: 3.6045 - accuracy: 0.1354\n",
            "Epoch 27: val_loss did not improve from 3.69623\n",
            "1563/1563 [==============================] - 7s 5ms/step - loss: 3.6039 - accuracy: 0.1354 - val_loss: 3.6984 - val_accuracy: 0.1362\n",
            "Epoch 28/30\n",
            "1554/1563 [============================>.] - ETA: 0s - loss: 3.5932 - accuracy: 0.1381\n",
            "Epoch 28: val_loss did not improve from 3.69623\n",
            "1563/1563 [==============================] - 7s 5ms/step - loss: 3.5927 - accuracy: 0.1382 - val_loss: 3.6980 - val_accuracy: 0.1344\n",
            "Epoch 29/30\n",
            "1562/1563 [============================>.] - ETA: 0s - loss: 3.5909 - accuracy: 0.1385\n",
            "Epoch 29: val_loss improved from 3.69623 to 3.69393, saving model to FMbest.hdf5\n",
            "1563/1563 [==============================] - 7s 5ms/step - loss: 3.5910 - accuracy: 0.1385 - val_loss: 3.6939 - val_accuracy: 0.1334\n",
            "Epoch 30/30\n",
            "1557/1563 [============================>.] - ETA: 0s - loss: 3.5862 - accuracy: 0.1398\n",
            "Epoch 30: val_loss improved from 3.69393 to 3.69299, saving model to FMbest.hdf5\n",
            "1563/1563 [==============================] - 7s 5ms/step - loss: 3.5866 - accuracy: 0.1398 - val_loss: 3.6930 - val_accuracy: 0.1360\n"
          ]
        }
      ],
      "source": [
        "# seed를 고정합니다.\n",
        "random.seed(1)\n",
        "np.random.seed(1)\n",
        "os.environ[\"PYTHONHASHSEED\"] = str(1)\n",
        "os.environ['TF_DETERMINISTIC_OPS'] = str(1)\n",
        "tf.random.set_seed(1)\n",
        "\n",
        "\n",
        "# 데이터 불러오기\n",
        "(X_train, y_train), (X_test, y_test) = cifar100.load_data()\n",
        "\n",
        "\n",
        "# 정규화(전처리)\n",
        "X_train, X_test=X_train / 255.0, X_test / 255.0 \n",
        "\n",
        "\n",
        "# 학습시킨 데이터를 저장시키기 위한 코드입니다. \n",
        "checkpoint_filepath = \"FMbest.hdf5\"\n",
        "\n",
        "\n",
        "# 변수 설정을 따로 하는 방법을 적용하기 위한 코드입니다. \n",
        "batch_size = 100\n",
        "epochs_max = 30\n",
        "\n",
        "\n",
        "model = Sequential()\n",
        "model.add(Flatten(input_shape=(32, 32, 3)))\n",
        "model.add(Dense(128, activation='relu'))\n",
        "model.add(Dense(128, activation='relu'))\n",
        "model.add(Dense(100, activation='softmax'))\n",
        "\n",
        "# 컴파일 단계, 옵티마이저와 손실함수, 측정지표를 연결해서 계산 그래프를 구성함\n",
        "model.compile(optimizer='adam', loss='sparse_categorical_crossentropy', metrics=['accuracy'])\n",
        "\n",
        "                  \n",
        "# early stopping\n",
        "early_stop = keras.callbacks.EarlyStopping(monitor='val_loss', min_delta=0, patience=5, verbose=1)\n",
        "\n",
        "# Validation Set을 기준으로 가장 최적의 모델을 찾기\n",
        "save_best = keras.callbacks.ModelCheckpoint(filepath=checkpoint_filepath, monitor='val_loss', verbose=1, save_best_only=True,\n",
        "                                            save_weights_only=True, mode='auto', save_freq='epoch', options=None)\n",
        "\n",
        "\n",
        "results = model.fit(X_train, y_train, batch_size=32, epochs=30, verbose=1, \n",
        "                    validation_data=(X_test,y_test), \n",
        "                    callbacks=[early_stop, save_best])"
      ]
    },
    {
      "cell_type": "code",
      "execution_count": 18,
      "metadata": {
        "id": "Bk3GSXbfUI91",
        "colab": {
          "base_uri": "https://localhost:8080/"
        },
        "outputId": "dab727aa-9b91-40e7-da3b-04a259323e86"
      },
      "outputs": [
        {
          "output_type": "stream",
          "name": "stdout",
          "text": [
            "313/313 [==============================] - 1s 3ms/step - loss: 3.6930 - accuracy: 0.1360\n"
          ]
        }
      ],
      "source": [
        "# 학습된 모델을 이용하여 테스트하는 코드\n",
        "test_loss, test_acc = model.evaluate(X_test,  y_test, verbose=1)"
      ]
    },
    {
      "cell_type": "code",
      "execution_count": 19,
      "metadata": {
        "id": "Nyz7CrMIUNJX",
        "colab": {
          "base_uri": "https://localhost:8080/"
        },
        "outputId": "3b9e6107-a6e5-47fa-d39c-1d8c7a234e94"
      },
      "outputs": [
        {
          "output_type": "stream",
          "name": "stdout",
          "text": [
            "313/313 [==============================] - 1s 3ms/step - loss: 3.6930 - accuracy: 0.1360\n"
          ]
        }
      ],
      "source": [
        "model.load_weights(checkpoint_filepath)\n",
        "\n",
        "# best model을 이용한 테스트 데이터 예측 정확도 재확인 코드\n",
        "test_loss, test_acc = model.evaluate(X_test, y_test, verbose=1)"
      ]
    }
  ],
  "metadata": {
    "accelerator": "GPU",
    "colab": {
      "machine_shape": "hm",
      "name": "ds-cs-N423a.ipynb의 사본",
      "provenance": [],
      "collapsed_sections": [],
      "include_colab_link": true
    },
    "kernelspec": {
      "display_name": "Python 3",
      "language": "python",
      "name": "python3"
    },
    "language_info": {
      "codemirror_mode": {
        "name": "ipython",
        "version": 3
      },
      "file_extension": ".py",
      "mimetype": "text/x-python",
      "name": "python",
      "nbconvert_exporter": "python",
      "pygments_lexer": "ipython3",
      "version": "3.9.4"
    }
  },
  "nbformat": 4,
  "nbformat_minor": 0
}