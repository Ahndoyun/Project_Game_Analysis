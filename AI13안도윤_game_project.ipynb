{
  "nbformat": 4,
  "nbformat_minor": 0,
  "metadata": {
    "colab": {
      "name": "AI13안도윤_game_project.ipynb",
      "private_outputs": true,
      "provenance": [],
      "collapsed_sections": []
    },
    "kernelspec": {
      "name": "python3",
      "display_name": "Python 3"
    },
    "language_info": {
      "name": "python"
    }
  },
  "cells": [
    {
      "cell_type": "markdown",
      "source": [
        "# **Game Sales Analysis Project**\n",
        "\n",
        "> ### 다음 분기에 어떤 게임을 설계해야 할까\n",
        "\n",
        "\n",
        "> 1.   *지역에 따라 선호하는 게임 장르가 다른지?*\n",
        "2.  *연도별 게임의 트렌드가 있는지?*\n",
        "3. *출고량 높은 게임에 대한 분석 및 시각화*\n",
        "\n",
        "\n",
        "\n",
        "\n",
        "\n",
        "\n",
        "\n",
        "\n",
        "\n",
        "\n",
        "\n"
      ],
      "metadata": {
        "id": "mNvY_bI-g3ML"
      }
    },
    {
      "cell_type": "markdown",
      "source": [
        "## **1. 데이터의 전처리**\n",
        "\n",
        "---\n",
        "\n",
        "\n",
        "\n",
        "\n",
        "> *   **라이브러리 로드, 한글폰트 설정**\n",
        "\n",
        "\n",
        "\n",
        "\n",
        "\n",
        "\n",
        "\n",
        "\n",
        "\n",
        "\n",
        "\n",
        "\n",
        "\n",
        "\n",
        "\n"
      ],
      "metadata": {
        "id": "Mx6XcTUziAIX"
      }
    },
    {
      "cell_type": "code",
      "source": [
        "import pandas as pd\n",
        "from google.colab import files\n",
        "uploaded = files.upload()"
      ],
      "metadata": {
        "id": "twV1OHTvisMw"
      },
      "execution_count": null,
      "outputs": []
    },
    {
      "cell_type": "code",
      "source": [
        "!sudo apt-get install -y fonts-nanum\n",
        "!sudo fc-cache -fv\n",
        "!rm ~/.cache/matplotlib -rf"
      ],
      "metadata": {
        "id": "Z6p4cTTRj_ga"
      },
      "execution_count": null,
      "outputs": []
    },
    {
      "cell_type": "code",
      "source": [
        "import pandas as pd\n",
        "import numpy as np\n",
        "import seaborn as sns\n",
        "import matplotlib as mpl\n",
        "import matplotlib.pyplot as plt\n",
        "from scipy.stats import stats\n",
        "mpl.rc('font', family='NanumGothic')"
      ],
      "metadata": {
        "id": "5MrZCICZjGy6"
      },
      "execution_count": null,
      "outputs": []
    },
    {
      "cell_type": "code",
      "source": [
        "df = pd.read_csv(\"vgames2.csv\")\n",
        "df"
      ],
      "metadata": {
        "id": "THbSnTGIkX4j"
      },
      "execution_count": null,
      "outputs": []
    },
    {
      "cell_type": "code",
      "source": [
        "df.info()\n",
        "df = df.drop(columns=['Unnamed: 0'], axis=1)\n",
        "df"
      ],
      "metadata": {
        "id": "O1v3TckSkjNQ"
      },
      "execution_count": null,
      "outputs": []
    },
    {
      "cell_type": "markdown",
      "source": [
        "> *   **결측치 확인 및 제거**\n",
        "\n",
        "\n",
        "\n",
        "> null 값은 데이터 양에 비해 미미하기 때문에 삭제\n"
      ],
      "metadata": {
        "id": "gGvO-aH_owoq"
      }
    },
    {
      "cell_type": "code",
      "source": [
        "df.isnull().sum()\n",
        "df = df.dropna()"
      ],
      "metadata": {
        "id": "kfkm4Oi8pIgR"
      },
      "execution_count": null,
      "outputs": []
    },
    {
      "cell_type": "markdown",
      "source": [
        "\n",
        "\n",
        "> *   **Sales 항목에서 단위를 M으로 통일해주고, float로 변환**\n",
        "\n",
        "\n",
        "\n",
        "\n",
        "\n"
      ],
      "metadata": {
        "id": "vmN4NlLolZCo"
      }
    },
    {
      "cell_type": "code",
      "source": [
        "#K를 M으로 변환하고 float로 변환\n",
        "df['NA_Sales'] = df['NA_Sales'].replace({'[K]': '*0.001', '[M]':'*1'}, regex = True).map(pd.eval).astype(float)\n",
        "df['EU_Sales'] = df['EU_Sales'].replace({'[K]': '*0.001', '[M]':'*1'}, regex = True).map(pd.eval).astype(float)\n",
        "df['JP_Sales'] = df['JP_Sales'].replace({'[K]': '*0.001', '[M]':'*1'}, regex = True).map(pd.eval).astype(float)\n",
        "df['Other_Sales'] = df['Other_Sales'].replace({'[K]': '*0.001', '[M]':'*1'}, regex = True).map(pd.eval).astype(float)\n",
        "\n",
        "#Sales의 합 column 추가\n",
        "df['Total_Sales'] = df['NA_Sales']+df['EU_Sales']+df['JP_Sales']+df['Other_Sales']\n",
        "\n",
        "df.info()\n"
      ],
      "metadata": {
        "id": "nC2FI4nLknRR"
      },
      "execution_count": null,
      "outputs": []
    },
    {
      "cell_type": "markdown",
      "source": [
        "> *   **year 열에서 0,1,2,3과 같은 한 자리 수 값 변환**\n",
        "*2017년, 2020년 데이터 수가 적기 때문에 drop"
      ],
      "metadata": {
        "id": "-1Ji33sz4Jf7"
      }
    },
    {
      "cell_type": "code",
      "source": [
        "#한 자리수 년도 변환\n",
        "def Year(num):\n",
        "  if num <= 20:\n",
        "    num = num + 2000\n",
        "    return num\n",
        "  elif num >20 and num <=100:\n",
        "    num = num + 1900\n",
        "    return num\n",
        "  else:\n",
        "    return num\n",
        "\n",
        "df['Year'] = df['Year'].apply(Year).round(0).astype(int)\n",
        "\n",
        "   \n",
        "  \n",
        "#2017년, 2020년 년도 drop\n",
        "df_idx1 = df[df['Year']==2017].index\n",
        "df_idx2 = df[df['Year']==2020].index\n",
        "df = df.drop(df_idx1)\n",
        "df = df.drop(df_idx2)\n",
        "df"
      ],
      "metadata": {
        "id": "UCfWkSkR9xYk"
      },
      "execution_count": null,
      "outputs": []
    },
    {
      "cell_type": "markdown",
      "source": [
        "## 2. 지역에 따라 선호하는 게임 \n",
        "\n",
        "---\n",
        "\n",
        "\n",
        "\n",
        "\n",
        "\n",
        "> 1.   지역별 전체 게임 출고량 비교\n",
        "2.   지역별 선호하는 게임 장르\n",
        "3. 지역별 선호하는 게임 플랫폼\n",
        "\n",
        "\n",
        "\n",
        "\n"
      ],
      "metadata": {
        "id": "NL58lePsCnwg"
      }
    },
    {
      "cell_type": "code",
      "source": [
        "#장르에 따른 지역별 판매량\n",
        "df_region_genre = df.groupby(['Genre'])['NA_Sales', 'EU_Sales', 'JP_Sales', 'Other_Sales'].sum().unstack().to_frame().reset_index()\n",
        "df_region_genre.rename(columns = {'level_0' : 'Region'}, inplace = True)\n",
        "df_region_genre.rename(columns = {0:'Sales'}, inplace = True)\n",
        "df_region_genre.head()"
      ],
      "metadata": {
        "id": "OBzOlrQQW3gO"
      },
      "execution_count": null,
      "outputs": []
    },
    {
      "cell_type": "code",
      "source": [
        "#지역별 전체 게임 판매량\n",
        "df_region = df_region_genre.drop('Genre', axis = 1)\n",
        "df_region = df_region_genre.groupby(['Region'])['Sales'].sum().to_frame().reset_index()\n",
        "df_region"
      ],
      "metadata": {
        "id": "F1JFFlqTPoVD"
      },
      "execution_count": null,
      "outputs": []
    },
    {
      "cell_type": "code",
      "source": [
        "#지역별 전체 게임 판매량 시각화\n",
        "sns.barplot(x='Region', y='Sales', data=df_region)\n",
        "plt.title(\"Total game sales by region\")\n",
        "plt.show()"
      ],
      "metadata": {
        "id": "-kDkq9AIdAdf"
      },
      "execution_count": null,
      "outputs": []
    },
    {
      "cell_type": "markdown",
      "source": [
        "     미국에서의 게임 판매량이 가장 높다"
      ],
      "metadata": {
        "id": "jQBfr2SaFXGr"
      }
    },
    {
      "cell_type": "code",
      "source": [
        "#최근 10년간 지역별 게임 판매량\n",
        "df_new_filter = df.Year > 2010\n",
        "df_new = df.loc[df_new_filter].reset_index(drop=True)\n",
        "df_region_new = df_new.groupby(['Genre'])['NA_Sales', 'EU_Sales', 'JP_Sales', 'Other_Sales'].sum().unstack().to_frame().reset_index()\n",
        "df_region_new.rename(columns = {'level_0' : 'Region'}, inplace = True)\n",
        "df_region_new.rename(columns = {0:'Sales'}, inplace = True)\n",
        "df_region_new.head()"
      ],
      "metadata": {
        "id": "WPm-cwtdcwcW"
      },
      "execution_count": null,
      "outputs": []
    },
    {
      "cell_type": "code",
      "source": [
        "#최근10년 지역별 게임 판매량 시각화\n",
        "sns.barplot(x='Region', y='Sales', data=df_region_new)\n",
        "plt.title(\"2010-2016 game sales by region\")\n",
        "plt.show()"
      ],
      "metadata": {
        "id": "wVFFLZxSe9pt"
      },
      "execution_count": null,
      "outputs": []
    },
    {
      "cell_type": "markdown",
      "source": [
        "     최근 10년 동안에도 미국에서의 게임 판매량이 제일 많았다."
      ],
      "metadata": {
        "id": "8N2Kh4hvfIvF"
      }
    },
    {
      "cell_type": "code",
      "source": [
        "#지역별 선호 장르 시각화\n",
        "plt.rc('font', family='NanumGothic')\n",
        "con_genre_NA = df.groupby(['Genre'])['NA_Sales'].sum().to_frame().reset_index()\n",
        "con_genre_EU = df.groupby(['Genre'])['EU_Sales'].sum().to_frame().reset_index()\n",
        "con_genre_JP = df.groupby(['Genre'])['JP_Sales'].sum().to_frame().reset_index()\n",
        "con_genre_OT = df.groupby(['Genre'])['Other_Sales'].sum().to_frame().reset_index()\n",
        "\n",
        "plt.figure(figsize=(8,8))\n",
        "plt.pie(con_genre_NA['NA_Sales'], labels = con_genre_NA['Genre'], autopct='%.1f%%', startangle=260, counterclock=False)\n",
        "plt.title('북미 지역의 선호장르')\n",
        "\n",
        "plt.figure(figsize=(8,8))\n",
        "plt.pie(con_genre_EU['EU_Sales'], labels = con_genre_EU['Genre'], autopct='%.1f%%')\n",
        "plt.title('유럽 지역의 선호장르')\n",
        "\n",
        "plt.figure(figsize=(8,8))\n",
        "plt.pie(con_genre_JP['JP_Sales'], labels = con_genre_JP['Genre'], autopct='%.1f%%')\n",
        "plt.title('일본 지역의 선호장르')\n",
        "\n",
        "plt.figure(figsize=(8,8))\n",
        "plt.pie(con_genre_OT['Other_Sales'], labels = con_genre_OT['Genre'], autopct='%.1f%%')\n",
        "plt.title('그 외 지역의 선호장르')"
      ],
      "metadata": {
        "id": "TlwVfcVJ_Gbq"
      },
      "execution_count": null,
      "outputs": []
    },
    {
      "cell_type": "markdown",
      "source": [
        "      1. 북미지역 선호 장르 : Action, Sports, Shooter\n",
        "      2. 유럽지역 선호 장르 : Action, Sports, Shooter\n",
        "      3. 일본지역 선호 장르 : Role-Playing, Action, Sports\n",
        "      4. 그 외 지역 선호 장르 : Action, Sports, Shooter"
      ],
      "metadata": {
        "id": "Eg-CmO7Yaftw"
      }
    },
    {
      "cell_type": "code",
      "source": [
        "con_genre_NA1 = df.groupby(['Genre'])['NA_Sales'].sum()\n",
        "con_genre_EU1 = df.groupby(['Genre'])['EU_Sales'].sum()\n",
        "con_genre_JP1 = df.groupby(['Genre'])['JP_Sales'].sum()\n",
        "con_genre_OT1 = df.groupby(['Genre'])['Other_Sales'].sum()\n",
        "con_genre = pd.DataFrame()\n",
        "con_genre = con_genre.append(con_genre_NA1)\n",
        "con_genre = con_genre.append(con_genre_EU1)\n",
        "con_genre = con_genre.append(con_genre_JP1)\n",
        "con_genre = con_genre.append(con_genre_OT1)\n",
        "con_genre = con_genre.T\n",
        "con_genre"
      ],
      "metadata": {
        "id": "xz9EUblfY3dG"
      },
      "execution_count": null,
      "outputs": []
    },
    {
      "cell_type": "markdown",
      "source": [
        "     파이 차트로 판단하기보다는 신뢰성을 높이기 위해 카이제곱검정 실행\n",
        "     - 귀무가설 : 지역과 선호 장르의 관계는 서로 독립이다.(연관이 없다)\n",
        "     - 대립가설 : 지역과 선호 장르의 관계는 서로 연관성이 있다.\n",
        "\n"
      ],
      "metadata": {
        "id": "IQLXM2fGQdUE"
      }
    },
    {
      "cell_type": "code",
      "source": [
        "# 카이 제곱검정 실행 (지역별로 선호하는 장르가 다른가?)\n",
        "from scipy.stats import chi2_contingency\n",
        "chi2_val, p, dof, expected=chi2_contingency(con_genre, correction=False)\n",
        "if(p<0.05) :\n",
        "   print('P value:', p, '\\n'+'귀무가설 기각, 지역과 선호 장르의 관계는 연관이 있다')\n",
        "else :\n",
        "   print('P value:', p, '\\n'+'귀무가설 기각못함, 지역과 선호 장르의 관계는 연관이 없다')"
      ],
      "metadata": {
        "id": "FOcXk9EcRgJh"
      },
      "execution_count": null,
      "outputs": []
    },
    {
      "cell_type": "code",
      "source": [
        "#지역에 따른 선호 플랫폼 (상위10개)\n",
        "con_plat_NA = df.groupby(['Platform'])['NA_Sales'].sum().to_frame().reset_index()\n",
        "plat_NA = con_plat_NA.sort_values(by=\"NA_Sales\", ascending=False).head(10)\n",
        "con_plat_EU = df.groupby(['Platform'])['EU_Sales'].sum().to_frame().reset_index()\n",
        "plat_EU = con_plat_EU.sort_values(by=\"EU_Sales\", ascending=False).head(10)\n",
        "con_plat_JP = df.groupby(['Platform'])['JP_Sales'].sum().to_frame().reset_index()\n",
        "plat_JP = con_plat_JP.sort_values(by=\"JP_Sales\", ascending=False).head(10)\n",
        "con_plat_OT = df.groupby(['Platform'])['Other_Sales'].sum().to_frame().reset_index()\n",
        "plat_OT = con_plat_OT.sort_values(by=\"Other_Sales\", ascending=False).head(10)\n",
        "\n",
        "plt.figure(figsize=(8,8))\n",
        "plt.pie(plat_NA['NA_Sales'], labels = plat_NA['Platform'], autopct='%.1f%%', startangle=260, counterclock=False)\n",
        "plt.title('북미 지역의 선호 플랫폼')\n",
        "\n",
        "plt.figure(figsize=(8,8))\n",
        "plt.pie(plat_EU['EU_Sales'], labels = plat_EU['Platform'], autopct='%.1f%%')\n",
        "plt.title('유럽 지역의 선호 플랫폼')\n",
        "\n",
        "plt.figure(figsize=(8,8))\n",
        "plt.pie(plat_JP['JP_Sales'], labels = plat_JP['Platform'], autopct='%.1f%%')\n",
        "plt.title('일본 지역의 선호 플랫폼')\n",
        "\n",
        "plt.figure(figsize=(8,8))\n",
        "plt.pie(plat_OT['Other_Sales'], labels = plat_OT['Platform'], autopct='%.1f%%')\n",
        "plt.title('그 외 지역의 선호 플랫폼')"
      ],
      "metadata": {
        "id": "hJPaG7C7x-O_"
      },
      "execution_count": null,
      "outputs": []
    },
    {
      "cell_type": "markdown",
      "source": [
        "     1. 북미지역 선호 플랫폼 : X360, PS2, Wii\n",
        "     2. 유럽지역 선호 플랫폼 : PS3, PS2, X360\n",
        "     3. 일본지역 선호 플랫폼 : DS, PS, PS2\n",
        "     4. 그 외 지역 선호 플랫폼 : PS2, PS3, X360"
      ],
      "metadata": {
        "id": "mvKH3x9e3Sze"
      }
    },
    {
      "cell_type": "code",
      "source": [
        "con_plat_NA1 = df.groupby(['Platform'])['NA_Sales'].sum()\n",
        "con_plat_EU1 = df.groupby(['Platform'])['EU_Sales'].sum()\n",
        "con_plat_JP1 = df.groupby(['Platform'])['JP_Sales'].sum()\n",
        "con_plat_OT1 = df.groupby(['Platform'])['Other_Sales'].sum()\n",
        "\n",
        "con_pl = pd.DataFrame()\n",
        "con_pl = con_pl.append(con_plat_NA1)\n",
        "con_pl = con_pl.append(con_plat_EU1)\n",
        "con_pl = con_pl.append(con_plat_JP1)\n",
        "con_pl = con_pl.append(con_plat_OT1)\n",
        "con_pl = con_pl.T\n",
        "con_pl.head()"
      ],
      "metadata": {
        "id": "nfEYD-gN4TxO"
      },
      "execution_count": null,
      "outputs": []
    },
    {
      "cell_type": "markdown",
      "source": [
        "    신뢰성을 높이기 위해 카이제곱검정 실행\n",
        "    - 귀무가설 : 지역별로 선호하는 플랫폼의 관계는 서로 독립이다.(지역마다 선호하는 플랫폼이 같다)\n",
        "    - 대립가설 : 지역별로 선호하는 플랫폼의 관계는 서로 연관성이 있다.(지역마다 선호하는 플랫폼이 다르다.)"
      ],
      "metadata": {
        "id": "zvY3Bq38347l"
      }
    },
    {
      "cell_type": "code",
      "source": [
        "# 카이 제곱검정 실행 (지역별로 선호하는 플랫폼이 다른가?)\n",
        "from scipy.stats import chi2_contingency\n",
        "chi2_val, p, dof, expected=chi2_contingency(con_pl, correction=False)\n",
        "if(p<0.05) :\n",
        "   print('P value:', p, '\\n'+'귀무가설 기각, 지역마다 선호하는 플랫폼이 다르다')\n",
        "else :\n",
        "   print('P value:', p, '\\n'+'귀무가설 기각못함, 지역마다 선호하는 플랫폼이 같다')"
      ],
      "metadata": {
        "id": "pGYig8sQ4GLh"
      },
      "execution_count": null,
      "outputs": []
    },
    {
      "cell_type": "markdown",
      "source": [
        "## **3. 연도별 게임의 트렌드가 있는지?**\n",
        "\n",
        "---\n",
        "\n",
        "\n",
        "\n",
        "\n",
        "\n",
        "> 1.   연도에 따른 지역별 판매량\n",
        "2.   연도에 따른 장르별 판매량\n",
        "3. 연도에 따른 장르 트렌드\n",
        "   - 게임 출시 빈도수 (장르)"
      ],
      "metadata": {
        "id": "ukIzB-c4LdCH"
      }
    },
    {
      "cell_type": "code",
      "source": [
        "#연도에 따른 지역별 판매량\n",
        "year = df.loc[:,['Year', 'NA_Sales', 'EU_Sales', 'JP_Sales', 'Other_Sales']]\n",
        "year_sale = year.groupby('Year').sum()\n",
        "year_sale.head()\n"
      ],
      "metadata": {
        "id": "UR8C6ICS-nf-"
      },
      "execution_count": null,
      "outputs": []
    },
    {
      "cell_type": "code",
      "source": [
        "#연도에 따른 지역별 판매량 시각화\n",
        "fig = plt.figure(figsize=(30,10))\n",
        "\n",
        "plt.plot(year_sale.index, year_sale.NA_Sales, label='NA_Sales')\n",
        "plt.plot(year_sale.index, year_sale.EU_Sales, label='EU_Sales')\n",
        "plt.plot(year_sale.index, year_sale.JP_Sales, label='JP_Sales')\n",
        "plt.plot(year_sale.index, year_sale.Other_Sales, label='Other_Sales')\n",
        "\n",
        "plt.xticks(year_sale.index, rotation=45)\n",
        "plt.yticks(np.arange(0,400,50))\n",
        "\n",
        "plt.annotate('North America', xy=(2008,340), xytext=(2008,340), fontsize=15, ha='center')\n",
        "plt.annotate('Europe', xy=(2008,180), xytext=(2008,180), fontsize=15, ha='center')\n",
        "plt.annotate('Others', xy=(2008,85), xytext=(2008,85), fontsize=15, ha='center')\n",
        "plt.annotate('Japan', xy=(2008,52), xytext=(2008,52), fontsize=15, ha='center')\n",
        "\n",
        "plt.title('연도에 따른 지역별 출고량', fontsize=22)\n",
        "plt.ylabel('Sales(단위 : M)', fontsize=15)\n",
        "plt.xlabel('연도', fontsize=15)\n",
        "plt.legend()\n",
        "plt.grid(True, color='gray', alpha=0.5, linestyle='--')\n",
        "plt.show()"
      ],
      "metadata": {
        "id": "tkhxvilDCnnh"
      },
      "execution_count": null,
      "outputs": []
    },
    {
      "cell_type": "markdown",
      "source": [
        "     2010년경에 전세계적으로 게임 판매량이 증가했고 북미, 유럽, 일본 순으로 게임이 많이 판매되었다.\n",
        "     현재까지 전체 게임 판매량의 순위도 북미, 유럽, 일본 순으로 유지중"
      ],
      "metadata": {
        "id": "pYCyUyiS2q_y"
      }
    },
    {
      "cell_type": "code",
      "source": [
        "#연도에 따른 장르별 판매량\n",
        "year_sale_gr = df.groupby(by=['Year', 'Genre'])['Total_Sales'].sum().unstack()\n",
        "year_sale_gr = year_sale_gr.fillna(0)\n",
        "year_sale_gr = year_sale_gr.reset_index()\n",
        "year_sale_gr.head()"
      ],
      "metadata": {
        "id": "n1Q1MtD__BlT"
      },
      "execution_count": null,
      "outputs": []
    },
    {
      "cell_type": "code",
      "source": [
        "#연도에 따른 장르별 판매량 시각화\n",
        "years1 = year_sale_gr['Year']\n",
        "plt.figure(figsize = (30,15))\n",
        "\n",
        "\n",
        "plt.plot(years1, year_sale_gr['Action'], label = 'Action')\n",
        "plt.plot(years1, year_sale_gr['Adventure'], label = 'Adventure')\n",
        "plt.plot(years1, year_sale_gr['Fighting'], label = 'Fighting')\n",
        "plt.plot(years1, year_sale_gr['Misc'], label = 'Misc')\n",
        "plt.plot(years1, year_sale_gr['Platform'], label = 'Platform')\n",
        "plt.plot(years1, year_sale_gr['Puzzle'], label = 'Puzzle')\n",
        "plt.plot(years1, year_sale_gr['Racing'], label = 'Racing')\n",
        "plt.plot(years1, year_sale_gr['Role-Playing'], label = 'Role-Playing')\n",
        "plt.plot(years1, year_sale_gr['Shooter'], label = 'Shooter')\n",
        "plt.plot(years1, year_sale_gr['Simulation'], label = 'Simulation')\n",
        "plt.plot(years1, year_sale_gr['Sports'], label = 'Sports')\n",
        "plt.plot(years1, year_sale_gr['Strategy'], label = 'Strategy')\n",
        "\n",
        "plt.xticks(years1, rotation=45)\n",
        "plt.yticks(np.arange(0,150,5))\n",
        "\n",
        "plt.legend()\n",
        "\n",
        "plt.title('연도별 장르에 따른 전 지역 판매량', fontsize=22)\n",
        "plt.ylabel('Sales(단위 : M)', fontsize=15)\n",
        "plt.xlabel('연도', fontsize=15)\n",
        "plt.legend()\n",
        "plt.grid(True, color='gray', alpha=0.5, linestyle='--')\n",
        "\n",
        "plt.show()\n"
      ],
      "metadata": {
        "id": "D5qlAMYBU-nx"
      },
      "execution_count": null,
      "outputs": []
    },
    {
      "cell_type": "markdown",
      "source": [
        "     Action, Sports 게임이 이전부터 인기있었으며 현재까지도 인기있는 장르입니다."
      ],
      "metadata": {
        "id": "bzkZdnyA3Ix4"
      }
    },
    {
      "cell_type": "markdown",
      "source": [
        "\n",
        "\n",
        "      위 그래프로는 정확하게 판단이 안되기 때문에 연도별 가장 인기 있는 장르도 분석 \n",
        "\n"
      ],
      "metadata": {
        "id": "5VvbTmMp3ayF"
      }
    },
    {
      "cell_type": "code",
      "source": [
        "#연도별 가장 인기있는 게임 트랜드\n",
        "year_sale2 =df.groupby(by=['Year', 'Genre'])['Total_Sales'].sum().reset_index()\n",
        "year_sale_max = year_sale2.loc[year_sale2.groupby(['Year'])['Total_Sales'].idxmax()]\n",
        "year_sale_max = year_sale_max.reset_index().drop('index',axis=1)\n",
        "year_sale_max.head()"
      ],
      "metadata": {
        "id": "IvEQCevfIRYj"
      },
      "execution_count": null,
      "outputs": []
    },
    {
      "cell_type": "code",
      "source": [
        "#연도별 가장 인기있는 게임 트랜드 시각화\n",
        "genre = year_sale_max['Genre']\n",
        "\n",
        "plt.figure(figsize=(30,20))\n",
        "bar = sns.barplot(x='Year', y = 'Total_Sales', data=year_sale_max)\n",
        "index=0\n",
        "for v in year_sale_max['Total_Sales']:\n",
        "    bar.text(index, v+1, str(genre[index] + '-' +str(round(v, 1))), color='black', size=20, rotation=90, ha=\"center\")\n",
        "    index +=1\n",
        "\n",
        "plt.title(\"연도별 가장 인기있는 게임 트렌드\", fontsize=30)\n",
        "plt.xlabel(\"Year\", fontsize=20)\n",
        "plt.ylabel(\"Total Sales\", fontsize=20)\n",
        "\n",
        "plt.xticks(rotation=90)\n",
        "plt.grid(True)\n",
        "plt.show()"
      ],
      "metadata": {
        "id": "6WqwWImnLBOx"
      },
      "execution_count": null,
      "outputs": []
    },
    {
      "cell_type": "markdown",
      "source": [
        "     2000년대부터 스포츠게임, 액션게임의 인기가 올라갔다.\n",
        "     2006년, 2009년 제외하고는 주로 스포츠게임보다는 액션게임이 더 인기가 있다.\n"
      ],
      "metadata": {
        "id": "RWpg9sToSCk-"
      }
    },
    {
      "cell_type": "markdown",
      "source": [
        "\n",
        "\n",
        "> *   시대별 수요 트렌드 그래프 (10년 주기)\n",
        "\n",
        "\n",
        "\n"
      ],
      "metadata": {
        "id": "sv3ZnxC739zg"
      }
    },
    {
      "cell_type": "code",
      "source": [
        "df_per = df.groupby(by=['Year', 'Genre'])['Total_Sales'].sum().unstack()\n",
        "df_per = df_per.fillna(0)\n",
        "df_per.loc['1980-1989', :] = df_per.loc[[1980, 1981, 1982, 1983, 1984, 1985, 1986, 1987, 1988, 1989]].sum()\n",
        "df_per.loc['1990-1999', :] = df_per.loc[[1990, 1991, 1992, 1993, 1994, 1995, 1996, 1997, 1998, 1999]].sum()\n",
        "df_per.loc['2000-2009', :] = df_per.loc[[2000,2001, 2002, 2003, 2004, 2005, 2006, 2007, 2008, 2009]].sum()\n",
        "df_per.loc['2010-2016', :] = df_per.loc[[2010, 2011, 2012, 2013, 2014, 2015, 2016]].sum()\n",
        "df_per = df_per.loc[['1980-1989', '1990-1999', '2000-2009', '2010-2016']]\n",
        "df_per.head()"
      ],
      "metadata": {
        "id": "hR2qo72w6Sgf"
      },
      "execution_count": null,
      "outputs": []
    },
    {
      "cell_type": "code",
      "source": [
        "plt.figure(figsize=(20,10))\n",
        "plt.title('시대별 장르 트렌드', fontsize=20)\n",
        "plt.ylabel('판매량(단위:M)')\n",
        "plt.grid(True)\n",
        "sns.lineplot(data=df_per)\n"
      ],
      "metadata": {
        "id": "Pt93KEe3-jZ0"
      },
      "execution_count": null,
      "outputs": []
    },
    {
      "cell_type": "markdown",
      "source": [
        "     2000년대 초가 게임 시장의 정점\n",
        "     10년 주기로 봤을 때도 2000년도 이후로부터는 액션 장르가 압도적으로 인기가 있다\n",
        "     2010년 이후로는 Sports 장르가 3위로 밀려남"
      ],
      "metadata": {
        "id": "ntL3Vg_CSjp-"
      }
    },
    {
      "cell_type": "markdown",
      "source": [
        "### 위 결과를 바탕으로 Action과 Sports 장르가 인기 있다고 판단\n",
        "### 게임 회사들도 위 장르의 게임을 많이 판매했을까?"
      ],
      "metadata": {
        "id": "EolAHxpEGrFH"
      }
    },
    {
      "cell_type": "code",
      "source": [
        "#장르별 게임 출시 횟수 분석\n",
        "df_gen_count = df.groupby(['Genre']).count()\n",
        "df_gen_count = df_gen_count['Name'].to_frame()\n",
        "df_gen_count.rename(columns={'Name':'Total_count'}, inplace = True)\n",
        "df_gen_count.head()"
      ],
      "metadata": {
        "id": "xKNkYGjoFCjl"
      },
      "execution_count": null,
      "outputs": []
    },
    {
      "cell_type": "code",
      "source": [
        "#장르별 출시 빈도 시각화\n",
        "\n",
        "df_gen_count.sort_values(by=['Total_count']).plot(kind='barh', title='장르별 출시 빈도')"
      ],
      "metadata": {
        "id": "3jLxx9OFFUpC"
      },
      "execution_count": null,
      "outputs": []
    },
    {
      "cell_type": "markdown",
      "source": [
        "     Action, Sports 장르 게임 수요가 많으니 공급도 많음."
      ],
      "metadata": {
        "id": "n3jdAwtcG54T"
      }
    },
    {
      "cell_type": "markdown",
      "source": [
        "## **4. 최근 10년간 판매량이 높은 게임에 대한 분석**\n",
        "### 새로 출시할 게임에 대한 주제이므로 최근 데이터를 중심으로 분석\n",
        "---\n",
        "\n",
        "\n",
        "\n",
        "\n",
        "\n",
        "> 1.   판매량이 가장 많은 30개의 게임 (플랫폼별)\n",
        "2.   판매량이 가장 많은 30개의 게임 (장르별)\n",
        "3. 판매량이 가장 많은 3개의 장르 분석"
      ],
      "metadata": {
        "id": "7W7kNkfsMkMy"
      }
    },
    {
      "cell_type": "code",
      "source": [
        "#판매량이 가장 많은 30개의 게임(플랫폼별)\n",
        "sales_top30 = df[df.Year > 2010].sort_values(by='Total_Sales', ascending = False)\n",
        "sales_top30 = sales_top30.head(30).reset_index(drop=True)\n",
        "sales_top30.head()"
      ],
      "metadata": {
        "id": "CVHZBgtzSwdn"
      },
      "execution_count": null,
      "outputs": []
    },
    {
      "cell_type": "code",
      "source": [
        "#최근 10년 판매량이 가장 많은 30개의 게임(플랫폼별) 시각화\n",
        "top30_plat = sales_top30.groupby(['Platform'])['Total_Sales'].sum().reset_index()\n",
        "platform = top30_plat['Platform'].values\n",
        "plt.figure(figsize=(20,10))\n",
        "top30_plat_sales = sns.barplot(x='Total_Sales', y='Platform', data=top30_plat)\n",
        "index = 0\n",
        "for value in top30_plat['Total_Sales']:\n",
        "    top30_plat_sales.text(x=value +1, y=index, s=str(round(value,2)), color='black', size=10)\n",
        "    index+=1\n",
        "\n",
        "plt.show()\n"
      ],
      "metadata": {
        "id": "XuOVZd9DXFEc"
      },
      "execution_count": null,
      "outputs": []
    },
    {
      "cell_type": "markdown",
      "source": [
        "    최근 10년간 출고량이 많았던 플랫폼은 X360, PS3, PS4, 3DS 순으로 많았다."
      ],
      "metadata": {
        "id": "15oojtsppTc_"
      }
    },
    {
      "cell_type": "code",
      "source": [
        "#판매량이 가장 많은 30개의 게임 (장르별)\n",
        "top30_gen = sales_top30.groupby(['Genre'])['Total_Sales'].sum().reset_index()\n",
        "genre = top30_gen['Genre'].values\n",
        "plt.figure(figsize=(20,10))\n",
        "top30_gen_sales = sns.barplot(x='Total_Sales', y='Genre', data=top30_gen)\n",
        "index = 0\n",
        "\n",
        "for value in top30_gen['Total_Sales']:\n",
        "    top30_gen_sales.text(x=value+1, y=index, s=str(round(value,2)), color='black', size=10)\n",
        "    index+=1\n",
        "    \n",
        "plt.show()"
      ],
      "metadata": {
        "id": "3MnAGQXmpjvP"
      },
      "execution_count": null,
      "outputs": []
    },
    {
      "cell_type": "markdown",
      "source": [
        "     최근 10년간 판매량이 많은 장르는 Shooter, Action 순으로 많았다."
      ],
      "metadata": {
        "id": "i4oV_8kgswmY"
      }
    },
    {
      "cell_type": "markdown",
      "source": [
        "## **5. 게임 장르와 플랫폼과의 연관성**\n",
        "\n",
        "---\n",
        "\n",
        "\n",
        "\n",
        "\n",
        "\n",
        "> 1.   가설 설정 및 확인\n",
        "\n",
        "       \n",
        " > 2.  어떤 장르에서 어떤 플랫폼이 판매량이 많은가\n"
      ],
      "metadata": {
        "id": "Dg2x_9u3NCfL"
      }
    },
    {
      "cell_type": "markdown",
      "source": [
        "     게임 장르와 플랫폼은 서로 독립이다(연관이 없다) - 귀무 가설\n",
        "       \n",
        "     게임 장르와 플랫폼은 서로 연관이 있다 - 대립 가설"
      ],
      "metadata": {
        "id": "YmvSOhRl7dd2"
      }
    },
    {
      "cell_type": "code",
      "source": [
        "df_crosstable = pd.crosstab(df['Genre'], df['Platform'])\n",
        "df_crosstable.head()"
      ],
      "metadata": {
        "id": "mn1-enyS7lSk"
      },
      "execution_count": null,
      "outputs": []
    },
    {
      "cell_type": "code",
      "source": [
        "# 카이 제곱검정 실행 (게임 장르와 플랫폼은 서로 독립(연관이 없다))일까?\n",
        "from scipy.stats import chi2_contingency\n",
        "chi2_val, p, dof, expected=chi2_contingency(df_crosstable, correction=False)\n",
        "if(p<0.05) :\n",
        "   print('P value:', p, '\\n'+'귀무가설 기각, 게임 장르와 플랫폼은 연관이 있다')\n",
        "else :\n",
        "   print('P value:', p, '\\n'+'귀무가설 기각못함, 게임 장르와 플랫폼은 연관이 없다')"
      ],
      "metadata": {
        "id": "YmhD5DzW7cAe"
      },
      "execution_count": null,
      "outputs": []
    },
    {
      "cell_type": "markdown",
      "source": [
        "     최근 10년간 데이터를 바탕으로, 장르에 따른 각 플랫폼별 게임 판매량 시각화"
      ],
      "metadata": {
        "id": "poIgz8Q1v_Fe"
      }
    },
    {
      "cell_type": "code",
      "source": [
        "#최근 10년간 장르에 따른 각 플랫폼별 게임 판매량\n",
        "df_10 = df[df.Year > 2010]\n",
        "df_genre_plat = df_10.groupby(['Genre', 'Platform'])['Total_Sales'].sum().reset_index()\n",
        "df_genre_plat.head()\n"
      ],
      "metadata": {
        "id": "eMnx-59TLaQD"
      },
      "execution_count": null,
      "outputs": []
    },
    {
      "cell_type": "code",
      "source": [
        "#최근 10년간 장르에 따른 각 플랫폼별 게임 판매량 시각화\n",
        "plt.figure(figsize=(15,15))\n",
        "plt.scatter(df_genre_plat['Genre'], df_genre_plat['Platform'], s=df_genre_plat['Total_Sales']*50, c=df_genre_plat['Total_Sales'], cmap='viridis', alpha=0.4)\n",
        "plt.title('2010-2016 장르에 따른 각 플랫폼별 판매량')\n",
        "plt.xlabel('Genre')\n",
        "plt.ylabel('Platform')\n",
        "plt.colorbar()\n",
        "plt.grid(True)\n",
        "plt.show()"
      ],
      "metadata": {
        "id": "hbpgbPf9CmAW"
      },
      "execution_count": null,
      "outputs": []
    },
    {
      "cell_type": "markdown",
      "source": [
        "    1위: Action 장르에서 PS3 플랫폼\n",
        "    2위 : Shooter 장르에서 X360 플랫폼\n",
        "    3위 : Action 장르에서 X360 플랫폼\n",
        "    4위 : Shooter 장르에서 PS3 플랫폼"
      ],
      "metadata": {
        "id": "qtI71--qOm6I"
      }
    },
    {
      "cell_type": "markdown",
      "source": [
        "\n",
        "\n",
        "---\n",
        " - 위 그래프에서 인기 있는 플랫폼은 PS3, X360, PS4, XOne인데,\n",
        "\n",
        " - 게임 플랫폼의 신규 업데이트, 단종 문제 등으로 ***최근 10년간의 분석보다는 전체 연도별 게임 플랫폼 트렌드를 분석 진행***"
      ],
      "metadata": {
        "id": "_2Bky0hCOuoU"
      }
    },
    {
      "cell_type": "code",
      "source": [
        "#연도별 플랫폼 출시 비율 꺾은선그래프\n",
        "sns.set_palette('deep')\n",
        "\n",
        "plt.figure(figsize=(10,7))\n",
        "plt.subplots_adjust(wspace=0.2, hspace=0.5)\n",
        "\n",
        "PS3_filter = df.Platform =='PS3'\n",
        "df_PS3 = df.loc[PS3_filter]\n",
        "df_PS3 = df_PS3.groupby(['Year', 'Platform']).size().reset_index(name = 'Count')\n",
        "plt.plot(df_PS3['Year'], df_PS3['Count'],marker='o', label = 'PS3')\n",
        "\n",
        "PS4_filter = df.Platform =='PS4'\n",
        "df_PS4 = df.loc[PS4_filter]\n",
        "df_PS4 = df_PS4.groupby(['Year', 'Platform']).size().reset_index(name = 'Count')\n",
        "plt.plot(df_PS4['Year'], df_PS4['Count'],marker='o', label = 'PS4')\n",
        "\n",
        "X360_filter = df.Platform =='X360'\n",
        "df_X360 = df.loc[X360_filter]\n",
        "df_X360 = df_X360.groupby(['Year', 'Platform']).size().reset_index(name = 'Count')\n",
        "plt.plot(df_X360['Year'], df_X360['Count'],marker='o', label = 'X360')\n",
        "\n",
        "XOne_filter = df.Platform =='XOne'\n",
        "df_XOne = df.loc[XOne_filter]\n",
        "df_XOne = df_XOne.groupby(['Year', 'Platform']).size().reset_index(name = 'Count')\n",
        "plt.plot(df_XOne['Year'], df_XOne['Count'],marker='o', label = 'XOne')\n",
        "\n",
        "plt.legend()\n",
        "plt.title('각 플랫폼의 출시량')\n",
        "plt.xlabel('연도')\n",
        "plt.ylabel('출시량')\n",
        "plt.show()"
      ],
      "metadata": {
        "id": "F_0dMK5TMhv4"
      },
      "execution_count": null,
      "outputs": []
    },
    {
      "cell_type": "markdown",
      "source": [
        "### - PS3, X360은 PS4, XOne이 생겨서 출시량이 감소하는 추세\n",
        "### - PS3의 후속인 PS4 를 선택하여 분석 진행할 것이다"
      ],
      "metadata": {
        "id": "JOXvD1p2QX1y"
      }
    },
    {
      "cell_type": "markdown",
      "source": [
        "## **6. PS4플랫폼을 기반으로 한 Action 장르 분석**\n",
        "\n",
        "---\n",
        "\n",
        "\n",
        "\n",
        "\n",
        "\n",
        "> 1.  어느 지역에서 가장 큰 매출을 달성했는가?\n",
        "\n",
        "       \n",
        "> 2.  제일 많이 판매된 회사의 매출"
      ],
      "metadata": {
        "id": "r_DIrJiwGWIC"
      }
    },
    {
      "cell_type": "markdown",
      "source": [
        "     PS4 플랫폼을 기반으로 한 Action 게임이 최근 어느지역에서 가장 큰 매출을 달성했는가?"
      ],
      "metadata": {
        "id": "Auka0w0DXLDj"
      }
    },
    {
      "cell_type": "code",
      "source": [
        "#PS4 플랫폼을 기반으로 한 Action 게임 분석\n",
        "Genre_filt = (df.Genre == 'Action') & (df.Year > 2010)\n",
        "df_action = df.loc[Genre_filt].reset_index(drop=True)\n",
        "\n",
        "plat_filt = (df_action.Platform =='PS4')\n",
        "df_action_ps4 = df_action.loc[plat_filt].reset_index(drop=True)\n",
        "df_action_ps4"
      ],
      "metadata": {
        "id": "zPg7D-GxXAPY"
      },
      "execution_count": null,
      "outputs": []
    },
    {
      "cell_type": "code",
      "source": [
        " #PS4 플랫폼을 기반으로 한 Action 게임이 최근 어느지역에서 가장 큰 매출을 달성했는가?\n",
        "plt.figure(figsize=(7,10))\n",
        "area_NA = df_action_ps4['NA_Sales'].sum()\n",
        "area_EU = df_action_ps4['EU_Sales'].sum()\n",
        "area_JP = df_action_ps4['JP_Sales'].sum()\n",
        "area_OT = df_action_ps4['Other_Sales'].sum()\n",
        "area = pd.DataFrame({'area':['NA', 'EU', 'JP', 'Others'],'Sales':[area_NA, area_EU, area_JP, area_OT]})\n",
        "area_barplot = sns.barplot(x='area', y='Sales', data=area)\n",
        "Sales = area['Sales'].values\n",
        "\n",
        "index=0\n",
        "for value in area['Sales']:\n",
        "    area_barplot.text(x=index, y=value+0.3, s=str(str(round(value,2))), color='black', size=12, ha='center')\n",
        "    index+=1\n",
        "\n",
        "plt.title('PS4 플랫폼 기반 Action 게임 지역별 매출량 (2010-2016)', size=15)\n",
        "plt.xlabel('지역')\n",
        "plt.ylabel('Sales')\n",
        "plt.show()"
      ],
      "metadata": {
        "id": "2xDbpVElYheA"
      },
      "execution_count": null,
      "outputs": []
    },
    {
      "cell_type": "markdown",
      "source": [
        "     유럽 지역에서 PS4 플랫폼을 기반으로 한 Action장르 게임 판매량이 제일 높았다."
      ],
      "metadata": {
        "id": "Qn0aH7tib2JV"
      }
    },
    {
      "cell_type": "code",
      "source": [
        "#유럽 내 PS4,Action게임 출고 회사중에서 제일 많이 판매된 회사 (최근10년)\n",
        "df_action_ps4_pu = df_action_ps4.groupby(['Publisher'])['EU_Sales'].sum().reset_index().sort_values(by='EU_Sales', ascending=False)\n",
        "plt.figure(figsize=(10,10))\n",
        "pu_barplot = sns.barplot(x='EU_Sales', y='Publisher', data=df_action_ps4_pu)\n",
        "plt.title('EU 지역의 PS4플랫폼 기반 Action게임 회사별 매출량 (2010-2016)')\n",
        "plt.xlabel('EU지역 매출량')\n",
        "plt.ylabel('회사')\n",
        "plt.grid(True)\n",
        "plt.show()\n"
      ],
      "metadata": {
        "id": "hVauWCFXHAKU"
      },
      "execution_count": null,
      "outputs": []
    },
    {
      "cell_type": "markdown",
      "source": [
        "     Ubisoft의 매출량이 가장 높기 때문에 Ubisoft사의 게임을 벤치마킹해 설계한다."
      ],
      "metadata": {
        "id": "UUWWvqtWRsep"
      }
    },
    {
      "cell_type": "markdown",
      "source": [
        "## 분석 결과 : \n",
        "\n",
        "\n",
        "1. 전체 기간, 최근 10년동안 북미에서의 게임 판매량이 가장 많다.\n",
        "   - 최근 10년동안은 유럽과 북미의 판매량 차이 미미\n",
        "2. 일본 제외한 나머지 지역 선호 장르 : Action, Sports\n",
        "3. 북미지역 선호 플랫폼 : X360, PS2, Wii\n",
        "4. 유럽지역 선호 플랫폼 : PS3, PS2, X360\n",
        "3. 2000년도 이후부터는 Action 장르가 압도적으로 인기가 있다.\n",
        "4. 최근 10년간 출고량이 많았던 플랫폼은 X360, PS3, PS4, 3DS 순으로 많았다.\n",
        "5. 최근 10년간 PS3플랫폼을 기반으로 한 Action 장르 게임이 제일 많이 판매되었다.\n",
        "  - 전체 기간동안 출고량과 비교하여 신규 플랫폼인 PS4 채택\n",
        "6. 유럽 지역에서 PS4 플랫폼을 기반으로 한 Action장르 게임 판매량이 제일 높았다. \n",
        "7. Ubisoft의 매출량이 가장 높음, Ubisoft사의 게임을 벤치마킹해 설계한다.\n",
        "\n",
        "\n",
        "\n",
        "---\n",
        "\n",
        "## 결론 : PS4 플랫폼을 기반으로 한 Action 장르 게임을 Ubisoft 사를 벤치마킹해 유럽을 타겟으로 판매해야 한다.\n",
        "\n",
        " \n",
        "    \n"
      ],
      "metadata": {
        "id": "Gse2ULnpPhp1"
      }
    }
  ]
}